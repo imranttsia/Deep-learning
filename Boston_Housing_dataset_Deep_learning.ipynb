{
  "nbformat": 4,
  "nbformat_minor": 0,
  "metadata": {
    "colab": {
      "provenance": [],
      "authorship_tag": "ABX9TyOEOOkfoG2+dx1NvKt5u6gG",
      "include_colab_link": true
    },
    "kernelspec": {
      "name": "python3",
      "display_name": "Python 3"
    },
    "language_info": {
      "name": "python"
    }
  },
  "cells": [
    {
      "cell_type": "markdown",
      "metadata": {
        "id": "view-in-github",
        "colab_type": "text"
      },
      "source": [
        "<a href=\"https://colab.research.google.com/github/imranttsia/Deep-learning/blob/main/Boston_Housing_dataset_Deep_learning.ipynb\" target=\"_parent\"><img src=\"https://colab.research.google.com/assets/colab-badge.svg\" alt=\"Open In Colab\"/></a>"
      ]
    },
    {
      "cell_type": "markdown",
      "source": [
        "3.6 Predicting house prices: a regression example"
      ],
      "metadata": {
        "id": "eXK9NiwivmpO"
      }
    },
    {
      "cell_type": "markdown",
      "source": [
        "3.6.1 The Boston Housing Price dataset\n",
        "\n",
        "we have to predict price\n",
        "\n",
        "boston housing mid-1970\n",
        "\n",
        "506 data samples\n",
        "\n",
        "404 training and 102 testing samples\n",
        "\n",
        "13 Features (number of columns in X)"
      ],
      "metadata": {
        "id": "Ha10Ksw0vmbM"
      }
    },
    {
      "cell_type": "markdown",
      "source": [
        "Listing 3.24 Loading the Boston housing dataset"
      ],
      "metadata": {
        "id": "dHbL1qnzv9Ot"
      }
    },
    {
      "cell_type": "code",
      "execution_count": 1,
      "metadata": {
        "colab": {
          "base_uri": "https://localhost:8080/"
        },
        "id": "FHpIamJCvlkK",
        "outputId": "76060b02-19c0-4ef4-b88d-d73f7b6e9fb0"
      },
      "outputs": [
        {
          "output_type": "stream",
          "name": "stdout",
          "text": [
            "Downloading data from https://storage.googleapis.com/tensorflow/tf-keras-datasets/boston_housing.npz\n",
            "57026/57026 [==============================] - 0s 0us/step\n"
          ]
        }
      ],
      "source": [
        "from tensorflow.keras.datasets import boston_housing\n",
        "(train_data, train_targets), (test_data, test_targets) = boston_housing.load_data()"
      ]
    },
    {
      "cell_type": "code",
      "source": [
        "train_data.shape"
      ],
      "metadata": {
        "colab": {
          "base_uri": "https://localhost:8080/"
        },
        "id": "MrdaRBa0wCIR",
        "outputId": "ccdc8c66-04e1-4f63-b2bc-b323634aa781"
      },
      "execution_count": 2,
      "outputs": [
        {
          "output_type": "execute_result",
          "data": {
            "text/plain": [
              "(404, 13)"
            ]
          },
          "metadata": {},
          "execution_count": 2
        }
      ]
    },
    {
      "cell_type": "code",
      "source": [
        "test_data.shape"
      ],
      "metadata": {
        "colab": {
          "base_uri": "https://localhost:8080/"
        },
        "id": "Qp9fOKsjwCLo",
        "outputId": "07253b3c-64a0-4f9a-8759-63a39bf7fdbe"
      },
      "execution_count": 3,
      "outputs": [
        {
          "output_type": "execute_result",
          "data": {
            "text/plain": [
              "(102, 13)"
            ]
          },
          "metadata": {},
          "execution_count": 3
        }
      ]
    },
    {
      "cell_type": "code",
      "source": [
        "train_data[0]"
      ],
      "metadata": {
        "colab": {
          "base_uri": "https://localhost:8080/"
        },
        "id": "C0KbEXgswLZ6",
        "outputId": "263949b7-2ff7-4310-ff71-63ccd5e7ea2b"
      },
      "execution_count": 4,
      "outputs": [
        {
          "output_type": "execute_result",
          "data": {
            "text/plain": [
              "array([  1.23247,   0.     ,   8.14   ,   0.     ,   0.538  ,   6.142  ,\n",
              "        91.7    ,   3.9769 ,   4.     , 307.     ,  21.     , 396.9    ,\n",
              "        18.72   ])"
            ]
          },
          "metadata": {},
          "execution_count": 4
        }
      ]
    },
    {
      "cell_type": "code",
      "source": [
        "train_targets[0]"
      ],
      "metadata": {
        "colab": {
          "base_uri": "https://localhost:8080/"
        },
        "id": "bOWZZ2bNwOYY",
        "outputId": "ee7407dc-b588-4eb2-983b-cd76b173833d"
      },
      "execution_count": 5,
      "outputs": [
        {
          "output_type": "execute_result",
          "data": {
            "text/plain": [
              "15.2"
            ]
          },
          "metadata": {},
          "execution_count": 5
        }
      ]
    },
    {
      "cell_type": "markdown",
      "source": [
        "3.6.2 Preparing the data"
      ],
      "metadata": {
        "id": "8XBFJ9kqxfV3"
      }
    },
    {
      "cell_type": "markdown",
      "source": [
        "Listing 3.25 Normalizing the data"
      ],
      "metadata": {
        "id": "DN8cm_SdxiCo"
      }
    },
    {
      "cell_type": "code",
      "source": [
        "mean = train_data.mean(axis=0)\n",
        "train_data -= mean\n",
        "\n",
        "std = train_data.std(axis=0)\n",
        "\n",
        "train_data /= std\n",
        "test_data -= mean\n",
        "test_data /= std"
      ],
      "metadata": {
        "id": "5dx2QklFxjee"
      },
      "execution_count": 6,
      "outputs": []
    },
    {
      "cell_type": "code",
      "source": [
        "mean"
      ],
      "metadata": {
        "colab": {
          "base_uri": "https://localhost:8080/"
        },
        "id": "IrZ47iX5KSop",
        "outputId": "2f2deff0-9f65-4100-d63d-4278e2109b8b"
      },
      "execution_count": 7,
      "outputs": [
        {
          "output_type": "execute_result",
          "data": {
            "text/plain": [
              "array([3.74511057e+00, 1.14801980e+01, 1.11044307e+01, 6.18811881e-02,\n",
              "       5.57355941e-01, 6.26708168e+00, 6.90106436e+01, 3.74027079e+00,\n",
              "       9.44059406e+00, 4.05898515e+02, 1.84759901e+01, 3.54783168e+02,\n",
              "       1.27408168e+01])"
            ]
          },
          "metadata": {},
          "execution_count": 7
        }
      ]
    },
    {
      "cell_type": "code",
      "source": [
        "train_data[0]\n"
      ],
      "metadata": {
        "colab": {
          "base_uri": "https://localhost:8080/"
        },
        "id": "L1g3umVSUEcn",
        "outputId": "275c8f23-2b23-40dd-b16d-9e42ec04c84d"
      },
      "execution_count": 8,
      "outputs": [
        {
          "output_type": "execute_result",
          "data": {
            "text/plain": [
              "array([-0.27224633, -0.48361547, -0.43576161, -0.25683275, -0.1652266 ,\n",
              "       -0.1764426 ,  0.81306188,  0.1166983 , -0.62624905, -0.59517003,\n",
              "        1.14850044,  0.44807713,  0.8252202 ])"
            ]
          },
          "metadata": {},
          "execution_count": 8
        }
      ]
    },
    {
      "cell_type": "code",
      "source": [
        "(21 - 1.84759901e+01)/2.19765689e+00\n"
      ],
      "metadata": {
        "colab": {
          "base_uri": "https://localhost:8080/"
        },
        "id": "YLjo3waxUEgL",
        "outputId": "4cb8a183-cd18-4d46-92c6-d06d4cb25d82"
      },
      "execution_count": 9,
      "outputs": [
        {
          "output_type": "execute_result",
          "data": {
            "text/plain": [
              "1.1485004376638608"
            ]
          },
          "metadata": {},
          "execution_count": 9
        }
      ]
    },
    {
      "cell_type": "code",
      "source": [
        "train_data.std(axis=0)\n"
      ],
      "metadata": {
        "colab": {
          "base_uri": "https://localhost:8080/"
        },
        "id": "jmDu6jsAUEtF",
        "outputId": "b4926f94-4f3a-47ef-a5eb-65945e2f3a02"
      },
      "execution_count": 10,
      "outputs": [
        {
          "output_type": "execute_result",
          "data": {
            "text/plain": [
              "array([1., 1., 1., 1., 1., 1., 1., 1., 1., 1., 1., 1., 1.])"
            ]
          },
          "metadata": {},
          "execution_count": 10
        }
      ]
    },
    {
      "cell_type": "markdown",
      "source": [
        "3.6.3 Building your network"
      ],
      "metadata": {
        "id": "9voaswfLxmMv"
      }
    },
    {
      "cell_type": "code",
      "source": [
        "from tensorflow.keras import models\n",
        "from tensorflow.keras import layers\n",
        "\n",
        "def build_model():\n",
        "    model = models.Sequential()\n",
        "    model.add(layers.Dense(64, activation='relu',\n",
        "                           input_shape=(train_data.shape[1],)))\n",
        "    model.add(layers.Dense(64, activation='relu'))\n",
        "    model.add(layers.Dense(1))\n",
        "    model.compile(optimizer='rmsprop', loss='mse', metrics=['mae'])\n",
        "    return model"
      ],
      "metadata": {
        "id": "hVVOB2i1xjMg"
      },
      "execution_count": 11,
      "outputs": []
    },
    {
      "cell_type": "markdown",
      "source": [
        "Listing 3.27 K-fold validation"
      ],
      "metadata": {
        "id": "iTErp-lhx8lU"
      }
    },
    {
      "cell_type": "code",
      "source": [
        "import numpy as np\n",
        "k=4\n",
        "num_val_samples = len(train_data) // k\n",
        "num_epochs = 100\n",
        "all_scores = []\n",
        "\n",
        "num_epochs = 500\n",
        "all_mae_histories = []\n",
        "for i in range(k):\n",
        "    print('processing fold #', i)\n",
        "    val_data = train_data[i * num_val_samples: (i + 1) * num_val_samples]\n",
        "    val_targets = train_targets[i * num_val_samples: (i + 1) * num_val_samples]\n",
        "    \n",
        "    partial_train_data = np.concatenate(\n",
        "        [train_data[:i * num_val_samples],\n",
        "         train_data[(i + 1) * num_val_samples:]],\n",
        "        axis=0)\n",
        "    \n",
        "    partial_train_targets = np.concatenate(\n",
        "        [train_targets[:i * num_val_samples],\n",
        "         train_targets[(i + 1) * num_val_samples:]],\n",
        "        axis=0)\n",
        "    \n",
        "model = build_model()\n",
        "history = model.fit(partial_train_data, partial_train_targets,\n",
        "                    validation_data=(val_data, val_targets),\n",
        "                    epochs=num_epochs, batch_size=1, verbose=0)\n",
        "mae_history = history.history['val_mae']\n",
        "all_mae_histories.append(mae_history)"
      ],
      "metadata": {
        "colab": {
          "base_uri": "https://localhost:8080/"
        },
        "id": "GRLgoUhqxjUn",
        "outputId": "3c036bd1-8fcd-443b-e17b-325421cd878b"
      },
      "execution_count": 12,
      "outputs": [
        {
          "output_type": "stream",
          "name": "stdout",
          "text": [
            "processing fold # 0\n",
            "processing fold # 1\n",
            "processing fold # 2\n",
            "processing fold # 3\n"
          ]
        }
      ]
    },
    {
      "cell_type": "code",
      "source": [
        "history.history.keys()"
      ],
      "metadata": {
        "colab": {
          "base_uri": "https://localhost:8080/"
        },
        "id": "hTc9ElXkymi1",
        "outputId": "95e12287-182a-4f52-82ca-4b469693f41b"
      },
      "execution_count": 13,
      "outputs": [
        {
          "output_type": "execute_result",
          "data": {
            "text/plain": [
              "dict_keys(['loss', 'mae', 'val_loss', 'val_mae'])"
            ]
          },
          "metadata": {},
          "execution_count": 13
        }
      ]
    },
    {
      "cell_type": "markdown",
      "source": [
        "Listing 3.29 Building the history of successive mean K-fold validation scores"
      ],
      "metadata": {
        "id": "ACQkPw9py6tD"
      }
    },
    {
      "cell_type": "code",
      "source": [
        "average_mae_history = [\n",
        "np.mean([x[i] for x in all_mae_histories]) for i in range(num_epochs)]"
      ],
      "metadata": {
        "id": "xj7UqVhzy-_I"
      },
      "execution_count": 14,
      "outputs": []
    },
    {
      "cell_type": "code",
      "source": [
        "average_mae_history\n"
      ],
      "metadata": {
        "colab": {
          "base_uri": "https://localhost:8080/"
        },
        "id": "X8v7EIBKy_0L",
        "outputId": "809db129-696b-4645-fd1c-9727a7b4889a"
      },
      "execution_count": 15,
      "outputs": [
        {
          "output_type": "execute_result",
          "data": {
            "text/plain": [
              "[6.268870830535889,\n",
              " 4.265023231506348,\n",
              " 3.5548295974731445,\n",
              " 3.4444174766540527,\n",
              " 3.0153074264526367,\n",
              " 3.0407180786132812,\n",
              " 2.815774440765381,\n",
              " 2.7230944633483887,\n",
              " 2.6828453540802,\n",
              " 3.160799026489258,\n",
              " 2.619581699371338,\n",
              " 2.561094284057617,\n",
              " 2.6732611656188965,\n",
              " 2.5163824558258057,\n",
              " 2.7008795738220215,\n",
              " 2.6189210414886475,\n",
              " 2.6227617263793945,\n",
              " 2.626046895980835,\n",
              " 2.646026611328125,\n",
              " 2.5681471824645996,\n",
              " 2.3877265453338623,\n",
              " 2.304515838623047,\n",
              " 2.3525445461273193,\n",
              " 2.8628690242767334,\n",
              " 2.457298755645752,\n",
              " 2.4193196296691895,\n",
              " 2.734607458114624,\n",
              " 2.2515764236450195,\n",
              " 2.324070930480957,\n",
              " 2.330831289291382,\n",
              " 2.4543709754943848,\n",
              " 2.1954009532928467,\n",
              " 2.2196364402770996,\n",
              " 2.6828396320343018,\n",
              " 2.3341901302337646,\n",
              " 2.555185079574585,\n",
              " 2.563328504562378,\n",
              " 2.4133472442626953,\n",
              " 2.447650909423828,\n",
              " 2.2363152503967285,\n",
              " 2.2977054119110107,\n",
              " 2.2752647399902344,\n",
              " 2.143901824951172,\n",
              " 2.200640916824341,\n",
              " 2.451573371887207,\n",
              " 2.4577600955963135,\n",
              " 2.5054967403411865,\n",
              " 2.3316280841827393,\n",
              " 2.3424642086029053,\n",
              " 2.4739632606506348,\n",
              " 2.2114193439483643,\n",
              " 2.202860116958618,\n",
              " 2.486255645751953,\n",
              " 2.20438551902771,\n",
              " 2.1744773387908936,\n",
              " 2.280808448791504,\n",
              " 2.179490566253662,\n",
              " 2.2388832569122314,\n",
              " 2.438840627670288,\n",
              " 2.2833197116851807,\n",
              " 2.3610644340515137,\n",
              " 2.5340588092803955,\n",
              " 2.314079999923706,\n",
              " 2.212230682373047,\n",
              " 2.3128459453582764,\n",
              " 2.2609822750091553,\n",
              " 2.5429346561431885,\n",
              " 2.433579683303833,\n",
              " 2.6324074268341064,\n",
              " 2.3654608726501465,\n",
              " 2.467822551727295,\n",
              " 2.3344571590423584,\n",
              " 2.3505001068115234,\n",
              " 2.2913646697998047,\n",
              " 2.2116169929504395,\n",
              " 2.3748466968536377,\n",
              " 2.2318015098571777,\n",
              " 2.2475714683532715,\n",
              " 2.3696069717407227,\n",
              " 2.3243324756622314,\n",
              " 2.258559465408325,\n",
              " 2.2582204341888428,\n",
              " 2.4544200897216797,\n",
              " 2.2080752849578857,\n",
              " 2.2310099601745605,\n",
              " 2.420987844467163,\n",
              " 2.2175331115722656,\n",
              " 2.2787840366363525,\n",
              " 2.3902015686035156,\n",
              " 2.3979246616363525,\n",
              " 2.204599618911743,\n",
              " 2.4365880489349365,\n",
              " 2.325556516647339,\n",
              " 2.521885871887207,\n",
              " 2.174600601196289,\n",
              " 2.4718377590179443,\n",
              " 2.2657623291015625,\n",
              " 2.246452808380127,\n",
              " 2.3011550903320312,\n",
              " 2.260850429534912,\n",
              " 2.375659942626953,\n",
              " 2.2265095710754395,\n",
              " 2.435426712036133,\n",
              " 2.419818878173828,\n",
              " 2.200650930404663,\n",
              " 2.3710684776306152,\n",
              " 2.3603546619415283,\n",
              " 2.2181179523468018,\n",
              " 2.4767744541168213,\n",
              " 2.394062042236328,\n",
              " 2.4270031452178955,\n",
              " 2.4098398685455322,\n",
              " 2.1856579780578613,\n",
              " 2.2155086994171143,\n",
              " 2.3366482257843018,\n",
              " 2.156101703643799,\n",
              " 2.17295241355896,\n",
              " 2.4717917442321777,\n",
              " 2.129538059234619,\n",
              " 2.3168811798095703,\n",
              " 2.73034930229187,\n",
              " 2.5559093952178955,\n",
              " 2.3164703845977783,\n",
              " 2.43867564201355,\n",
              " 2.2401413917541504,\n",
              " 2.386995792388916,\n",
              " 2.188607931137085,\n",
              " 2.359381914138794,\n",
              " 2.3173463344573975,\n",
              " 2.5295522212982178,\n",
              " 2.377423048019409,\n",
              " 2.2623279094696045,\n",
              " 2.2334489822387695,\n",
              " 2.2471673488616943,\n",
              " 2.331798553466797,\n",
              " 2.896153450012207,\n",
              " 2.3931937217712402,\n",
              " 2.4134068489074707,\n",
              " 2.19600510597229,\n",
              " 2.358909845352173,\n",
              " 2.5599873065948486,\n",
              " 2.6448497772216797,\n",
              " 2.1463773250579834,\n",
              " 2.328169107437134,\n",
              " 2.397442102432251,\n",
              " 2.316293716430664,\n",
              " 2.3051247596740723,\n",
              " 2.220808744430542,\n",
              " 2.5797157287597656,\n",
              " 2.413532257080078,\n",
              " 2.4425084590911865,\n",
              " 2.253042459487915,\n",
              " 2.241730213165283,\n",
              " 2.333704948425293,\n",
              " 2.2945024967193604,\n",
              " 2.313706874847412,\n",
              " 2.355173110961914,\n",
              " 2.4257335662841797,\n",
              " 2.4994497299194336,\n",
              " 2.3874735832214355,\n",
              " 2.314739227294922,\n",
              " 2.4200615882873535,\n",
              " 2.3497982025146484,\n",
              " 2.2295377254486084,\n",
              " 2.2543373107910156,\n",
              " 2.6156954765319824,\n",
              " 2.4628827571868896,\n",
              " 2.3606181144714355,\n",
              " 2.992065668106079,\n",
              " 2.325530767440796,\n",
              " 2.17108416557312,\n",
              " 2.8555617332458496,\n",
              " 2.227254629135132,\n",
              " 2.2473819255828857,\n",
              " 2.1350135803222656,\n",
              " 2.412792682647705,\n",
              " 2.357469081878662,\n",
              " 2.3005332946777344,\n",
              " 2.369403839111328,\n",
              " 2.4879820346832275,\n",
              " 2.1616694927215576,\n",
              " 2.3373663425445557,\n",
              " 2.32513689994812,\n",
              " 2.534877300262451,\n",
              " 2.3421144485473633,\n",
              " 2.342695951461792,\n",
              " 2.357473373413086,\n",
              " 2.3596410751342773,\n",
              " 2.2965543270111084,\n",
              " 2.273690938949585,\n",
              " 2.5314435958862305,\n",
              " 2.671166181564331,\n",
              " 2.2799932956695557,\n",
              " 2.7961835861206055,\n",
              " 2.2407617568969727,\n",
              " 2.3472721576690674,\n",
              " 2.2318410873413086,\n",
              " 2.2997241020202637,\n",
              " 2.254072666168213,\n",
              " 2.5713419914245605,\n",
              " 2.266406774520874,\n",
              " 2.532557964324951,\n",
              " 2.6697793006896973,\n",
              " 2.433453321456909,\n",
              " 2.227199077606201,\n",
              " 2.4694104194641113,\n",
              " 2.2310924530029297,\n",
              " 2.286356210708618,\n",
              " 2.2601332664489746,\n",
              " 2.2602226734161377,\n",
              " 2.7216296195983887,\n",
              " 2.3980324268341064,\n",
              " 2.277790069580078,\n",
              " 2.2631821632385254,\n",
              " 2.3594794273376465,\n",
              " 2.8358728885650635,\n",
              " 2.607059955596924,\n",
              " 2.298882484436035,\n",
              " 2.289724111557007,\n",
              " 2.582149028778076,\n",
              " 2.4472005367279053,\n",
              " 2.3630611896514893,\n",
              " 2.363562822341919,\n",
              " 2.747169017791748,\n",
              " 2.5657379627227783,\n",
              " 2.399094343185425,\n",
              " 2.4026758670806885,\n",
              " 2.2349941730499268,\n",
              " 2.2866744995117188,\n",
              " 2.5074939727783203,\n",
              " 2.4087352752685547,\n",
              " 2.262237071990967,\n",
              " 2.407655715942383,\n",
              " 2.234553813934326,\n",
              " 2.5446181297302246,\n",
              " 2.644669532775879,\n",
              " 2.437957525253296,\n",
              " 2.5094001293182373,\n",
              " 2.3160605430603027,\n",
              " 2.769266366958618,\n",
              " 2.4430737495422363,\n",
              " 2.359056234359741,\n",
              " 2.56352162361145,\n",
              " 2.2280333042144775,\n",
              " 2.357316017150879,\n",
              " 2.5328502655029297,\n",
              " 2.6430439949035645,\n",
              " 2.3948023319244385,\n",
              " 2.2816457748413086,\n",
              " 2.6151351928710938,\n",
              " 2.728781223297119,\n",
              " 2.438450813293457,\n",
              " 2.3538918495178223,\n",
              " 2.5738186836242676,\n",
              " 2.3332295417785645,\n",
              " 2.4288084506988525,\n",
              " 2.7560203075408936,\n",
              " 2.4746901988983154,\n",
              " 2.2612364292144775,\n",
              " 2.4339163303375244,\n",
              " 2.4526851177215576,\n",
              " 2.4936954975128174,\n",
              " 2.6003215312957764,\n",
              " 2.3993844985961914,\n",
              " 2.4490115642547607,\n",
              " 2.3608739376068115,\n",
              " 2.6046812534332275,\n",
              " 2.447826862335205,\n",
              " 2.4586005210876465,\n",
              " 2.4638702869415283,\n",
              " 2.428039789199829,\n",
              " 2.5797736644744873,\n",
              " 2.522096633911133,\n",
              " 2.5498440265655518,\n",
              " 2.4326653480529785,\n",
              " 2.4529573917388916,\n",
              " 2.4755465984344482,\n",
              " 2.4239108562469482,\n",
              " 2.473893404006958,\n",
              " 2.588630199432373,\n",
              " 2.9300220012664795,\n",
              " 2.491990327835083,\n",
              " 2.4699008464813232,\n",
              " 2.4285314083099365,\n",
              " 2.3576529026031494,\n",
              " 2.384768009185791,\n",
              " 2.538007974624634,\n",
              " 2.426255226135254,\n",
              " 2.5262317657470703,\n",
              " 2.472445249557495,\n",
              " 2.3385794162750244,\n",
              " 2.2880947589874268,\n",
              " 2.9004099369049072,\n",
              " 2.3921453952789307,\n",
              " 2.4684321880340576,\n",
              " 2.5509724617004395,\n",
              " 2.810926675796509,\n",
              " 2.361067295074463,\n",
              " 2.369872808456421,\n",
              " 2.6317949295043945,\n",
              " 2.3344216346740723,\n",
              " 2.543109655380249,\n",
              " 2.4923346042633057,\n",
              " 2.3838577270507812,\n",
              " 2.3287830352783203,\n",
              " 2.410121440887451,\n",
              " 2.4284918308258057,\n",
              " 2.4764297008514404,\n",
              " 2.433253765106201,\n",
              " 2.4468860626220703,\n",
              " 2.3948676586151123,\n",
              " 2.7765116691589355,\n",
              " 2.438199520111084,\n",
              " 2.3559131622314453,\n",
              " 2.3320939540863037,\n",
              " 2.4137117862701416,\n",
              " 2.6719717979431152,\n",
              " 2.6176517009735107,\n",
              " 2.5536887645721436,\n",
              " 2.4660730361938477,\n",
              " 2.407101631164551,\n",
              " 2.53347110748291,\n",
              " 2.6059763431549072,\n",
              " 2.5828604698181152,\n",
              " 2.4188263416290283,\n",
              " 2.5360910892486572,\n",
              " 2.498164415359497,\n",
              " 2.52282977104187,\n",
              " 2.376333713531494,\n",
              " 2.5679283142089844,\n",
              " 2.492295742034912,\n",
              " 2.4841606616973877,\n",
              " 2.4972972869873047,\n",
              " 2.6315345764160156,\n",
              " 2.37884783744812,\n",
              " 2.700726270675659,\n",
              " 2.520026206970215,\n",
              " 2.5416147708892822,\n",
              " 2.4760727882385254,\n",
              " 2.9647204875946045,\n",
              " 2.4701499938964844,\n",
              " 2.475231170654297,\n",
              " 2.6097967624664307,\n",
              " 2.5643105506896973,\n",
              " 2.4273788928985596,\n",
              " 2.4701313972473145,\n",
              " 2.4887900352478027,\n",
              " 2.4175710678100586,\n",
              " 2.438446283340454,\n",
              " 2.593125343322754,\n",
              " 2.4701437950134277,\n",
              " 2.3789262771606445,\n",
              " 2.4822115898132324,\n",
              " 2.8551242351531982,\n",
              " 2.670926332473755,\n",
              " 2.5356016159057617,\n",
              " 3.1302785873413086,\n",
              " 2.8634679317474365,\n",
              " 2.6908605098724365,\n",
              " 2.476980209350586,\n",
              " 2.5017683506011963,\n",
              " 2.4645750522613525,\n",
              " 2.412785291671753,\n",
              " 2.601022243499756,\n",
              " 2.3991289138793945,\n",
              " 2.675621747970581,\n",
              " 2.452216625213623,\n",
              " 2.5306692123413086,\n",
              " 2.3972434997558594,\n",
              " 2.493715286254883,\n",
              " 2.602867603302002,\n",
              " 2.49133038520813,\n",
              " 2.4461824893951416,\n",
              " 2.546971321105957,\n",
              " 2.5276710987091064,\n",
              " 2.6230928897857666,\n",
              " 2.6625702381134033,\n",
              " 2.6426541805267334,\n",
              " 2.4920918941497803,\n",
              " 2.502537488937378,\n",
              " 2.4728541374206543,\n",
              " 2.658237934112549,\n",
              " 2.576279401779175,\n",
              " 2.6733977794647217,\n",
              " 2.539400815963745,\n",
              " 2.4100606441497803,\n",
              " 2.539992570877075,\n",
              " 2.4548749923706055,\n",
              " 2.5542991161346436,\n",
              " 2.464481830596924,\n",
              " 2.489093542098999,\n",
              " 2.4922292232513428,\n",
              " 2.464871883392334,\n",
              " 2.666788339614868,\n",
              " 2.545854091644287,\n",
              " 2.505929470062256,\n",
              " 2.5617592334747314,\n",
              " 2.433668613433838,\n",
              " 2.7117366790771484,\n",
              " 2.5346503257751465,\n",
              " 2.431253671646118,\n",
              " 2.5553317070007324,\n",
              " 2.520171642303467,\n",
              " 2.599189281463623,\n",
              " 2.521559953689575,\n",
              " 2.6614434719085693,\n",
              " 2.5531716346740723,\n",
              " 2.471332311630249,\n",
              " 2.53117299079895,\n",
              " 2.4845783710479736,\n",
              " 2.536911964416504,\n",
              " 2.4822826385498047,\n",
              " 2.6224825382232666,\n",
              " 2.7057442665100098,\n",
              " 2.542222499847412,\n",
              " 2.5626580715179443,\n",
              " 2.453371524810791,\n",
              " 2.54264760017395,\n",
              " 2.8135745525360107,\n",
              " 2.6698355674743652,\n",
              " 2.4747891426086426,\n",
              " 2.6603503227233887,\n",
              " 2.6054978370666504,\n",
              " 2.657008171081543,\n",
              " 2.680757761001587,\n",
              " 2.5552456378936768,\n",
              " 2.7148630619049072,\n",
              " 2.586186408996582,\n",
              " 2.580845355987549,\n",
              " 2.5966386795043945,\n",
              " 2.564831018447876,\n",
              " 2.6964426040649414,\n",
              " 2.6286427974700928,\n",
              " 2.6506381034851074,\n",
              " 2.6089701652526855,\n",
              " 2.567030429840088,\n",
              " 2.6086490154266357,\n",
              " 2.8726158142089844,\n",
              " 2.64798641204834,\n",
              " 2.713088035583496,\n",
              " 2.6599621772766113,\n",
              " 2.573537588119507,\n",
              " 2.63617205619812,\n",
              " 2.6237952709198,\n",
              " 2.52335524559021,\n",
              " 2.635061025619507,\n",
              " 2.661917209625244,\n",
              " 2.6295599937438965,\n",
              " 2.6518678665161133,\n",
              " 2.532360076904297,\n",
              " 2.5951132774353027,\n",
              " 2.691779375076294,\n",
              " 2.590151071548462,\n",
              " 2.581709861755371,\n",
              " 2.621753692626953,\n",
              " 2.522308588027954,\n",
              " 2.6156415939331055,\n",
              " 2.6799838542938232,\n",
              " 2.631885528564453,\n",
              " 2.579585313796997,\n",
              " 2.5759501457214355,\n",
              " 2.5749661922454834,\n",
              " 2.582463026046753,\n",
              " 2.629464864730835,\n",
              " 2.504243850708008,\n",
              " 2.6200356483459473,\n",
              " 2.540799856185913,\n",
              " 2.6187374591827393,\n",
              " 2.528738260269165,\n",
              " 2.626702308654785,\n",
              " 2.6071481704711914,\n",
              " 2.6071834564208984,\n",
              " 2.6341896057128906,\n",
              " 2.599592447280884,\n",
              " 2.678506374359131,\n",
              " 2.4771173000335693,\n",
              " 2.611210823059082,\n",
              " 2.5931429862976074,\n",
              " 2.646418809890747,\n",
              " 2.663750410079956,\n",
              " 2.608280897140503,\n",
              " 2.564901113510132,\n",
              " 2.613689422607422,\n",
              " 2.5938355922698975,\n",
              " 2.589876174926758,\n",
              " 2.6560781002044678,\n",
              " 2.555305004119873,\n",
              " 2.497002601623535,\n",
              " 2.572413921356201,\n",
              " 2.602504253387451,\n",
              " 2.716840982437134,\n",
              " 2.620535373687744,\n",
              " 2.4505510330200195,\n",
              " 2.729581594467163,\n",
              " 2.5348763465881348,\n",
              " 2.5011210441589355,\n",
              " 2.557032585144043,\n",
              " 2.610069990158081,\n",
              " 2.8744282722473145,\n",
              " 2.690988779067993]"
            ]
          },
          "metadata": {},
          "execution_count": 15
        }
      ]
    },
    {
      "cell_type": "markdown",
      "source": [
        "Listing 3.30 Plotting validation scores"
      ],
      "metadata": {
        "id": "m89GWFUozaPy"
      }
    },
    {
      "cell_type": "code",
      "source": [
        "import matplotlib.pyplot as plt\n",
        "plt.plot(average_mae_history)\n",
        "plt.xlabel('Epochs')\n",
        "plt.ylabel('Validation MAE')\n",
        "plt.show()"
      ],
      "metadata": {
        "colab": {
          "base_uri": "https://localhost:8080/",
          "height": 279
        },
        "id": "pboRMTHnzV30",
        "outputId": "bf00bb07-9d6a-4bf4-bab8-af28a9687295"
      },
      "execution_count": 16,
      "outputs": [
        {
          "output_type": "display_data",
          "data": {
            "text/plain": [
              "<Figure size 432x288 with 1 Axes>"
            ],
            "image/png": "[encoded data removed]"
          },
          "metadata": {
            "needs_background": "light"
          }
        }
      ]
    },
    {
      "cell_type": "code",
      "source": [
        "import matplotlib.pyplot as plt\n",
        "plt.plot(range(1, len(average_mae_history) + 1), average_mae_history)\n",
        "plt.xlabel('Epochs')\n",
        "plt.ylabel('Validation MAE')\n",
        "plt.show()"
      ],
      "metadata": {
        "colab": {
          "base_uri": "https://localhost:8080/",
          "height": 279
        },
        "id": "kJ5Y3RQrzWDR",
        "outputId": "e328b5ec-ed3c-47e8-df70-8048de3a1979"
      },
      "execution_count": 17,
      "outputs": [
        {
          "output_type": "display_data",
          "data": {
            "text/plain": [
              "<Figure size 432x288 with 1 Axes>"
            ],
            "image/png": "[encoded data removed]"
          },
          "metadata": {
            "needs_background": "light"
          }
        }
      ]
    },
    {
      "cell_type": "markdown",
      "source": [
        "Listing 3.31 Plotting validation scores, excluding the first 10 data points"
      ],
      "metadata": {
        "id": "cibVjYQJ0EBl"
      }
    },
    {
      "cell_type": "code",
      "source": [
        "def smooth_curve(points, factor=0.9):\n",
        "    smoothed_points = []\n",
        "    for point in points:\n",
        "        if smoothed_points:\n",
        "            previous = smoothed_points[-1]\n",
        "            smoothed_points.append(previous * factor + point * (1 - factor))\n",
        "        else:\n",
        "            smoothed_points.append(point)\n",
        "    return smoothed_points\n",
        "    \n",
        "smooth_mae_history = smooth_curve(average_mae_history[10:])\n",
        "plt.plot(range(1, len(smooth_mae_history) + 1), smooth_mae_history)\n",
        "plt.xlabel('Epochs')\n",
        "plt.ylabel('Validation MAE')\n",
        "plt.show()"
      ],
      "metadata": {
        "colab": {
          "base_uri": "https://localhost:8080/",
          "height": 279
        },
        "id": "Lx0XxOTMzWGs",
        "outputId": "8a3df078-5c88-40cb-b5e7-047217cf15fc"
      },
      "execution_count": 18,
      "outputs": [
        {
          "output_type": "display_data",
          "data": {
            "text/plain": [
              "<Figure size 432x288 with 1 Axes>"
            ],
            "image/png": "[encoded data removed]"
          },
          "metadata": {
            "needs_background": "light"
          }
        }
      ]
    },
    {
      "cell_type": "markdown",
      "source": [
        "Listing 3.32 Training the final model"
      ],
      "metadata": {
        "id": "xe7T_Par0XrF"
      }
    },
    {
      "cell_type": "code",
      "source": [
        "model = build_model()\n",
        "model.fit(train_data, train_targets,\n",
        "          epochs=100, batch_size=16, verbose=0)\n",
        "test_mse_score, test_mae_score = model.evaluate(test_data, test_targets)"
      ],
      "metadata": {
        "colab": {
          "base_uri": "https://localhost:8080/"
        },
        "id": "Q7jybqRa0Y4y",
        "outputId": "31ab07d3-27e4-4d32-d2e1-9684735f3eee"
      },
      "execution_count": 19,
      "outputs": [
        {
          "output_type": "stream",
          "name": "stdout",
          "text": [
            "4/4 [==============================] - 0s 3ms/step - loss: 18.1925 - mae: 2.7565\n"
          ]
        }
      ]
    },
    {
      "cell_type": "code",
      "source": [
        "test_mse_score"
      ],
      "metadata": {
        "colab": {
          "base_uri": "https://localhost:8080/"
        },
        "id": "544CQXRg0Y8F",
        "outputId": "c8cda3b6-8b52-4614-dacc-0a913abe7130"
      },
      "execution_count": 20,
      "outputs": [
        {
          "output_type": "execute_result",
          "data": {
            "text/plain": [
              "18.19252586364746"
            ]
          },
          "metadata": {},
          "execution_count": 20
        }
      ]
    },
    {
      "cell_type": "code",
      "source": [
        "test_mae_score"
      ],
      "metadata": {
        "colab": {
          "base_uri": "https://localhost:8080/"
        },
        "id": "bn6wGUkR0jFu",
        "outputId": "836b1cc2-3cc1-43c4-c79b-fd63274bcc81"
      },
      "execution_count": 21,
      "outputs": [
        {
          "output_type": "execute_result",
          "data": {
            "text/plain": [
              "2.756525993347168"
            ]
          },
          "metadata": {},
          "execution_count": 21
        }
      ]
    },
    {
      "cell_type": "markdown",
      "source": [
        "You’re still off by about $2,550."
      ],
      "metadata": {
        "id": "n2F2e1mT0mzs"
      }
    },
    {
      "cell_type": "code",
      "source": [
        "model.predict(test_data)"
      ],
      "metadata": {
        "colab": {
          "base_uri": "https://localhost:8080/"
        },
        "id": "yKvmN6zD0jI8",
        "outputId": "9c6016af-2eb2-478f-a9ed-5f288dc517f1"
      },
      "execution_count": 22,
      "outputs": [
        {
          "output_type": "stream",
          "name": "stdout",
          "text": [
            "4/4 [==============================] - 0s 3ms/step\n"
          ]
        },
        {
          "output_type": "execute_result",
          "data": {
            "text/plain": [
              "array([[ 9.388829],\n",
              "       [19.104954],\n",
              "       [22.25843 ],\n",
              "       [34.26942 ],\n",
              "       [24.61388 ],\n",
              "       [21.475626],\n",
              "       [26.384459],\n",
              "       [21.40181 ],\n",
              "       [19.898418],\n",
              "       [23.79289 ],\n",
              "       [19.072456],\n",
              "       [16.169752],\n",
              "       [17.19141 ],\n",
              "       [42.047634],\n",
              "       [21.716093],\n",
              "       [19.652672],\n",
              "       [25.171005],\n",
              "       [18.666893],\n",
              "       [20.027414],\n",
              "       [26.86638 ],\n",
              "       [13.153802],\n",
              "       [15.888436],\n",
              "       [21.620358],\n",
              "       [14.234383],\n",
              "       [17.638165],\n",
              "       [25.6204  ],\n",
              "       [28.695215],\n",
              "       [29.498768],\n",
              "       [12.704264],\n",
              "       [19.797916],\n",
              "       [19.521564],\n",
              "       [15.568713],\n",
              "       [32.292767],\n",
              "       [23.716803],\n",
              "       [19.421951],\n",
              "       [ 8.784637],\n",
              "       [17.439297],\n",
              "       [17.201826],\n",
              "       [20.600988],\n",
              "       [25.466059],\n",
              "       [31.033009],\n",
              "       [26.769207],\n",
              "       [14.957459],\n",
              "       [42.903355],\n",
              "       [29.859211],\n",
              "       [25.57787 ],\n",
              "       [27.27745 ],\n",
              "       [18.562592],\n",
              "       [24.952007],\n",
              "       [22.164663],\n",
              "       [34.572163],\n",
              "       [20.34956 ],\n",
              "       [11.920169],\n",
              "       [15.730681],\n",
              "       [35.10158 ],\n",
              "       [27.166908],\n",
              "       [13.999886],\n",
              "       [47.97697 ],\n",
              "       [33.68656 ],\n",
              "       [22.655935],\n",
              "       [26.67051 ],\n",
              "       [18.147717],\n",
              "       [16.2131  ],\n",
              "       [19.345327],\n",
              "       [23.058802],\n",
              "       [19.484772],\n",
              "       [15.691691],\n",
              "       [21.237854],\n",
              "       [12.816172],\n",
              "       [ 8.417579],\n",
              "       [25.972792],\n",
              "       [29.080385],\n",
              "       [27.515831],\n",
              "       [12.744698],\n",
              "       [24.161407],\n",
              "       [17.953323],\n",
              "       [18.857702],\n",
              "       [23.555166],\n",
              "       [35.984566],\n",
              "       [11.967364],\n",
              "       [21.368908],\n",
              "       [37.803513],\n",
              "       [14.297133],\n",
              "       [15.193458],\n",
              "       [17.036366],\n",
              "       [17.554705],\n",
              "       [22.800583],\n",
              "       [19.847904],\n",
              "       [22.104385],\n",
              "       [32.41241 ],\n",
              "       [20.463142],\n",
              "       [18.023613],\n",
              "       [25.38957 ],\n",
              "       [42.821964],\n",
              "       [36.720028],\n",
              "       [20.672293],\n",
              "       [35.64311 ],\n",
              "       [48.76784 ],\n",
              "       [24.975994],\n",
              "       [47.277493],\n",
              "       [30.159023],\n",
              "       [20.643341]], dtype=float32)"
            ]
          },
          "metadata": {},
          "execution_count": 22
        }
      ]
    }
  ]
}